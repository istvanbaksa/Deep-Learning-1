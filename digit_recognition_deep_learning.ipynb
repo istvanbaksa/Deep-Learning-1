{
  "nbformat": 4,
  "nbformat_minor": 0,
  "metadata": {
    "colab": {
      "name": "digit recognition deep learning.ipynb",
      "provenance": [],
      "authorship_tag": "ABX9TyPu2pQUZfWImlNVnQZF5jiu",
      "include_colab_link": true
    },
    "kernelspec": {
      "name": "python3",
      "display_name": "Python 3"
    },
    "language_info": {
      "name": "python"
    }
  },
  "cells": [
    {
      "cell_type": "markdown",
      "metadata": {
        "id": "view-in-github",
        "colab_type": "text"
      },
      "source": [
        "<a href=\"https://colab.research.google.com/github/istvanbaksa/Deep-Learning-1/blob/main/digit_recognition_deep_learning.ipynb\" target=\"_parent\"><img src=\"https://colab.research.google.com/assets/colab-badge.svg\" alt=\"Open In Colab\"/></a>"
      ]
    },
    {
      "cell_type": "code",
      "execution_count": null,
      "metadata": {
        "id": "6cFChZBk4Pax"
      },
      "outputs": [],
      "source": [
        "import tensorflow as tf\n",
        "import matplotlib.pyplot as plt\n",
        "\n",
        "mnist = tf.keras.datasets.mnist\n",
        "\n",
        "(X_train, y_train), (X_test, y_test) = mnist.load_data()\n",
        "\n",
        "X_train = tf.keras.utils.normalize(X_train, axis = 1)\n",
        "X_test = tf.keras.utils.normalize(X_test, axis = 1)\n",
        "\n",
        "#print(X_train[0])\n",
        "#plt.imshow(X_train[0], cmap = plt.cm.binary)\n",
        "\n",
        "model = tf.keras.models.Sequential()\n",
        "model.add(tf.keras.layers.Flatten())\n",
        "model.add(tf.keras.layers.Dense(200, activation = tf.nn.relu))\n",
        "model.add(tf.keras.layers.Dense(200, activation = tf.nn.relu))\n",
        "model.add(tf.keras.layers.Dense(10, activation = tf.nn.softmax))\n",
        "\n",
        "opt = tf.keras.optimizers.Adam(learning_rate=0.01)\n",
        "\n",
        "model.compile(optimizer = opt, loss = 'sparse_categorical_crossentropy',\n",
        "              metrics = ['accuracy'])\n",
        "\n",
        "model.fit(X_train, y_train, epochs = 3)\n",
        "\n",
        "val_loss, val_acc = model.evaluate(X_test, y_test)\n",
        "print(val_loss, val_acc)"
      ]
    },
    {
      "cell_type": "code",
      "source": [
        "from tensorflow._api.v2.nn import sigmoid\n",
        "import tensorflow as tf\n",
        "import numpy as np\n",
        "import matplotlib.pyplot as plt\n",
        "from sklearn.model_selection import train_test_split\n",
        "\n",
        "mnist = tf.keras.datasets.mnist\n",
        "\n",
        "(X_train, y_train),(X_test, y_test) = mnist.load_data()\n",
        "\n",
        "X = np.concatenate((X_train, X_test), axis = 0)\n",
        "\n",
        "y = np.concatenate((y_train, y_test), axis = 0)\n",
        "\n",
        "X_train, X_test, y_train, y_test = train_test_split(X, y, test_size = 0.25, random_state = 0)\n",
        "\n",
        "X_train = tf.keras.utils.normalize(X_train, axis = 1)\n",
        "X_test = tf.keras.utils.normalize(X_test, axis = 1)\n",
        "\n",
        "model = tf.keras.Sequential()\n",
        "model.add(tf.keras.layers.Flatten())\n",
        "model.add(tf.keras.layers.Dense(200, activation = tf.nn.relu))\n",
        "model.add(tf.keras.layers.Dense(100, activation = tf.nn.relu))\n",
        "model.add(tf.keras.layers.Dense(10, activation = tf.nn.sigmoid))\n",
        "\n",
        "model.compile(optimizer = 'adam', \n",
        "              loss = 'sparse_categorical_crossentropy', \n",
        "              metrics=['accuracy'])\n",
        "\n",
        "\n",
        "model.fit(X_train, y_train, epochs = 3)\n",
        "\n",
        "val_loss, val_acc = model.evaluate(X_test, y_test)\n",
        "print(val_loss, val_acc)"
      ],
      "metadata": {
        "id": "n-lnqk5_fhVM"
      },
      "execution_count": null,
      "outputs": []
    }
  ]
}